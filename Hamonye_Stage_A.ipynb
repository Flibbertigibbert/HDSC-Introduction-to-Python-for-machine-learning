{
  "nbformat": 4,
  "nbformat_minor": 0,
  "metadata": {
    "colab": {
      "provenance": [],
      "authorship_tag": "ABX9TyOBTDdlLpMeAeOqaPCG1igv",
      "include_colab_link": true
    },
    "kernelspec": {
      "name": "python3",
      "display_name": "Python 3"
    },
    "language_info": {
      "name": "python"
    }
  },
  "cells": [
    {
      "cell_type": "markdown",
      "metadata": {
        "id": "view-in-github",
        "colab_type": "text"
      },
      "source": [
        "<a href=\"https://colab.research.google.com/github/Flibbertigibbert/HDSC-Introduction-to-Python-for-machine-learning/blob/master/Hamonye_Stage_A.ipynb\" target=\"_parent\"><img src=\"https://colab.research.google.com/assets/colab-badge.svg\" alt=\"Open In Colab\"/></a>"
      ]
    },
    {
      "cell_type": "code",
      "execution_count": 1,
      "metadata": {
        "colab": {
          "base_uri": "https://localhost:8080/"
        },
        "id": "MR4CmLoYdXBr",
        "outputId": "7b6ba0ab-8293-4ac8-a965-b4867dc421de"
      },
      "outputs": [
        {
          "output_type": "stream",
          "name": "stdout",
          "text": [
            "Mounted at /content/drive\n"
          ]
        }
      ],
      "source": [
        "#Mount google drive\n",
        "from google.colab import drive\n",
        "drive.mount(\"/content/drive\")"
      ]
    },
    {
      "cell_type": "code",
      "source": [
        "#Import Libraries\n",
        "import pandas as pd\n",
        "import numpy as np\n",
        "import matplotlib.pyplot as plt\n",
        "import seaborn as sns\n",
        "\n",
        "%matplotlib inline"
      ],
      "metadata": {
        "id": "B7pubItyfHgx"
      },
      "execution_count": 2,
      "outputs": []
    },
    {
      "cell_type": "code",
      "source": [
        "df = pd.read_csv(\"/content/drive/MyDrive/clideo.com/FoodBalanceSheets_E_Africa_NOFLAG.csv\", encoding=\"latin-1\")"
      ],
      "metadata": {
        "id": "UCTGzUN8frGD"
      },
      "execution_count": 7,
      "outputs": []
    },
    {
      "cell_type": "code",
      "source": [
        "df.head()"
      ],
      "metadata": {
        "colab": {
          "base_uri": "https://localhost:8080/",
          "height": 276
        },
        "id": "R3MXbOpUgbaY",
        "outputId": "e59e95c8-58ca-45e5-c5a0-4f14c9b698a5"
      },
      "execution_count": 10,
      "outputs": [
        {
          "output_type": "execute_result",
          "data": {
            "text/plain": [
              "   Area Code     Area  Item Code         Item  Element Code  \\\n",
              "0          4  Algeria       2501   Population           511   \n",
              "1          4  Algeria       2501   Population          5301   \n",
              "2          4  Algeria       2901  Grand Total           664   \n",
              "3          4  Algeria       2901  Grand Total           674   \n",
              "4          4  Algeria       2901  Grand Total           684   \n",
              "\n",
              "                                  Element             Unit     Y2014  \\\n",
              "0           Total Population - Both sexes     1000 persons  38924.00   \n",
              "1                Domestic supply quantity      1000 tonnes      0.00   \n",
              "2           Food supply (kcal/capita/day)  kcal/capita/day   3377.00   \n",
              "3  Protein supply quantity (g/capita/day)     g/capita/day     94.90   \n",
              "4      Fat supply quantity (g/capita/day)     g/capita/day     80.06   \n",
              "\n",
              "      Y2015     Y2016     Y2017     Y2018  \n",
              "0  39728.00  40551.00  41389.00  42228.00  \n",
              "1      0.00      0.00      0.00      0.00  \n",
              "2   3379.00   3372.00   3341.00   3322.00  \n",
              "3     94.35     94.72     92.82     91.83  \n",
              "4     79.36     77.40     80.19     77.28  "
            ],
            "text/html": [
              "\n",
              "  <div id=\"df-c2468934-34a9-4749-a4ab-3f609e43ed37\" class=\"colab-df-container\">\n",
              "    <div>\n",
              "<style scoped>\n",
              "    .dataframe tbody tr th:only-of-type {\n",
              "        vertical-align: middle;\n",
              "    }\n",
              "\n",
              "    .dataframe tbody tr th {\n",
              "        vertical-align: top;\n",
              "    }\n",
              "\n",
              "    .dataframe thead th {\n",
              "        text-align: right;\n",
              "    }\n",
              "</style>\n",
              "<table border=\"1\" class=\"dataframe\">\n",
              "  <thead>\n",
              "    <tr style=\"text-align: right;\">\n",
              "      <th></th>\n",
              "      <th>Area Code</th>\n",
              "      <th>Area</th>\n",
              "      <th>Item Code</th>\n",
              "      <th>Item</th>\n",
              "      <th>Element Code</th>\n",
              "      <th>Element</th>\n",
              "      <th>Unit</th>\n",
              "      <th>Y2014</th>\n",
              "      <th>Y2015</th>\n",
              "      <th>Y2016</th>\n",
              "      <th>Y2017</th>\n",
              "      <th>Y2018</th>\n",
              "    </tr>\n",
              "  </thead>\n",
              "  <tbody>\n",
              "    <tr>\n",
              "      <th>0</th>\n",
              "      <td>4</td>\n",
              "      <td>Algeria</td>\n",
              "      <td>2501</td>\n",
              "      <td>Population</td>\n",
              "      <td>511</td>\n",
              "      <td>Total Population - Both sexes</td>\n",
              "      <td>1000 persons</td>\n",
              "      <td>38924.00</td>\n",
              "      <td>39728.00</td>\n",
              "      <td>40551.00</td>\n",
              "      <td>41389.00</td>\n",
              "      <td>42228.00</td>\n",
              "    </tr>\n",
              "    <tr>\n",
              "      <th>1</th>\n",
              "      <td>4</td>\n",
              "      <td>Algeria</td>\n",
              "      <td>2501</td>\n",
              "      <td>Population</td>\n",
              "      <td>5301</td>\n",
              "      <td>Domestic supply quantity</td>\n",
              "      <td>1000 tonnes</td>\n",
              "      <td>0.00</td>\n",
              "      <td>0.00</td>\n",
              "      <td>0.00</td>\n",
              "      <td>0.00</td>\n",
              "      <td>0.00</td>\n",
              "    </tr>\n",
              "    <tr>\n",
              "      <th>2</th>\n",
              "      <td>4</td>\n",
              "      <td>Algeria</td>\n",
              "      <td>2901</td>\n",
              "      <td>Grand Total</td>\n",
              "      <td>664</td>\n",
              "      <td>Food supply (kcal/capita/day)</td>\n",
              "      <td>kcal/capita/day</td>\n",
              "      <td>3377.00</td>\n",
              "      <td>3379.00</td>\n",
              "      <td>3372.00</td>\n",
              "      <td>3341.00</td>\n",
              "      <td>3322.00</td>\n",
              "    </tr>\n",
              "    <tr>\n",
              "      <th>3</th>\n",
              "      <td>4</td>\n",
              "      <td>Algeria</td>\n",
              "      <td>2901</td>\n",
              "      <td>Grand Total</td>\n",
              "      <td>674</td>\n",
              "      <td>Protein supply quantity (g/capita/day)</td>\n",
              "      <td>g/capita/day</td>\n",
              "      <td>94.90</td>\n",
              "      <td>94.35</td>\n",
              "      <td>94.72</td>\n",
              "      <td>92.82</td>\n",
              "      <td>91.83</td>\n",
              "    </tr>\n",
              "    <tr>\n",
              "      <th>4</th>\n",
              "      <td>4</td>\n",
              "      <td>Algeria</td>\n",
              "      <td>2901</td>\n",
              "      <td>Grand Total</td>\n",
              "      <td>684</td>\n",
              "      <td>Fat supply quantity (g/capita/day)</td>\n",
              "      <td>g/capita/day</td>\n",
              "      <td>80.06</td>\n",
              "      <td>79.36</td>\n",
              "      <td>77.40</td>\n",
              "      <td>80.19</td>\n",
              "      <td>77.28</td>\n",
              "    </tr>\n",
              "  </tbody>\n",
              "</table>\n",
              "</div>\n",
              "    <div class=\"colab-df-buttons\">\n",
              "\n",
              "  <div class=\"colab-df-container\">\n",
              "    <button class=\"colab-df-convert\" onclick=\"convertToInteractive('df-c2468934-34a9-4749-a4ab-3f609e43ed37')\"\n",
              "            title=\"Convert this dataframe to an interactive table.\"\n",
              "            style=\"display:none;\">\n",
              "\n",
              "  <svg xmlns=\"http://www.w3.org/2000/svg\" height=\"24px\" viewBox=\"0 -960 960 960\">\n",
              "    <path d=\"M120-120v-720h720v720H120Zm60-500h600v-160H180v160Zm220 220h160v-160H400v160Zm0 220h160v-160H400v160ZM180-400h160v-160H180v160Zm440 0h160v-160H620v160ZM180-180h160v-160H180v160Zm440 0h160v-160H620v160Z\"/>\n",
              "  </svg>\n",
              "    </button>\n",
              "\n",
              "  <style>\n",
              "    .colab-df-container {\n",
              "      display:flex;\n",
              "      gap: 12px;\n",
              "    }\n",
              "\n",
              "    .colab-df-convert {\n",
              "      background-color: #E8F0FE;\n",
              "      border: none;\n",
              "      border-radius: 50%;\n",
              "      cursor: pointer;\n",
              "      display: none;\n",
              "      fill: #1967D2;\n",
              "      height: 32px;\n",
              "      padding: 0 0 0 0;\n",
              "      width: 32px;\n",
              "    }\n",
              "\n",
              "    .colab-df-convert:hover {\n",
              "      background-color: #E2EBFA;\n",
              "      box-shadow: 0px 1px 2px rgba(60, 64, 67, 0.3), 0px 1px 3px 1px rgba(60, 64, 67, 0.15);\n",
              "      fill: #174EA6;\n",
              "    }\n",
              "\n",
              "    .colab-df-buttons div {\n",
              "      margin-bottom: 4px;\n",
              "    }\n",
              "\n",
              "    [theme=dark] .colab-df-convert {\n",
              "      background-color: #3B4455;\n",
              "      fill: #D2E3FC;\n",
              "    }\n",
              "\n",
              "    [theme=dark] .colab-df-convert:hover {\n",
              "      background-color: #434B5C;\n",
              "      box-shadow: 0px 1px 3px 1px rgba(0, 0, 0, 0.15);\n",
              "      filter: drop-shadow(0px 1px 2px rgba(0, 0, 0, 0.3));\n",
              "      fill: #FFFFFF;\n",
              "    }\n",
              "  </style>\n",
              "\n",
              "    <script>\n",
              "      const buttonEl =\n",
              "        document.querySelector('#df-c2468934-34a9-4749-a4ab-3f609e43ed37 button.colab-df-convert');\n",
              "      buttonEl.style.display =\n",
              "        google.colab.kernel.accessAllowed ? 'block' : 'none';\n",
              "\n",
              "      async function convertToInteractive(key) {\n",
              "        const element = document.querySelector('#df-c2468934-34a9-4749-a4ab-3f609e43ed37');\n",
              "        const dataTable =\n",
              "          await google.colab.kernel.invokeFunction('convertToInteractive',\n",
              "                                                    [key], {});\n",
              "        if (!dataTable) return;\n",
              "\n",
              "        const docLinkHtml = 'Like what you see? Visit the ' +\n",
              "          '<a target=\"_blank\" href=https://colab.research.google.com/notebooks/data_table.ipynb>data table notebook</a>'\n",
              "          + ' to learn more about interactive tables.';\n",
              "        element.innerHTML = '';\n",
              "        dataTable['output_type'] = 'display_data';\n",
              "        await google.colab.output.renderOutput(dataTable, element);\n",
              "        const docLink = document.createElement('div');\n",
              "        docLink.innerHTML = docLinkHtml;\n",
              "        element.appendChild(docLink);\n",
              "      }\n",
              "    </script>\n",
              "  </div>\n",
              "\n",
              "\n",
              "<div id=\"df-f7d790dd-a484-47cc-8fb0-498369dfa358\">\n",
              "  <button class=\"colab-df-quickchart\" onclick=\"quickchart('df-f7d790dd-a484-47cc-8fb0-498369dfa358')\"\n",
              "            title=\"Suggest charts.\"\n",
              "            style=\"display:none;\">\n",
              "\n",
              "<svg xmlns=\"http://www.w3.org/2000/svg\" height=\"24px\"viewBox=\"0 0 24 24\"\n",
              "     width=\"24px\">\n",
              "    <g>\n",
              "        <path d=\"M19 3H5c-1.1 0-2 .9-2 2v14c0 1.1.9 2 2 2h14c1.1 0 2-.9 2-2V5c0-1.1-.9-2-2-2zM9 17H7v-7h2v7zm4 0h-2V7h2v10zm4 0h-2v-4h2v4z\"/>\n",
              "    </g>\n",
              "</svg>\n",
              "  </button>\n",
              "\n",
              "<style>\n",
              "  .colab-df-quickchart {\n",
              "      --bg-color: #E8F0FE;\n",
              "      --fill-color: #1967D2;\n",
              "      --hover-bg-color: #E2EBFA;\n",
              "      --hover-fill-color: #174EA6;\n",
              "      --disabled-fill-color: #AAA;\n",
              "      --disabled-bg-color: #DDD;\n",
              "  }\n",
              "\n",
              "  [theme=dark] .colab-df-quickchart {\n",
              "      --bg-color: #3B4455;\n",
              "      --fill-color: #D2E3FC;\n",
              "      --hover-bg-color: #434B5C;\n",
              "      --hover-fill-color: #FFFFFF;\n",
              "      --disabled-bg-color: #3B4455;\n",
              "      --disabled-fill-color: #666;\n",
              "  }\n",
              "\n",
              "  .colab-df-quickchart {\n",
              "    background-color: var(--bg-color);\n",
              "    border: none;\n",
              "    border-radius: 50%;\n",
              "    cursor: pointer;\n",
              "    display: none;\n",
              "    fill: var(--fill-color);\n",
              "    height: 32px;\n",
              "    padding: 0;\n",
              "    width: 32px;\n",
              "  }\n",
              "\n",
              "  .colab-df-quickchart:hover {\n",
              "    background-color: var(--hover-bg-color);\n",
              "    box-shadow: 0 1px 2px rgba(60, 64, 67, 0.3), 0 1px 3px 1px rgba(60, 64, 67, 0.15);\n",
              "    fill: var(--button-hover-fill-color);\n",
              "  }\n",
              "\n",
              "  .colab-df-quickchart-complete:disabled,\n",
              "  .colab-df-quickchart-complete:disabled:hover {\n",
              "    background-color: var(--disabled-bg-color);\n",
              "    fill: var(--disabled-fill-color);\n",
              "    box-shadow: none;\n",
              "  }\n",
              "\n",
              "  .colab-df-spinner {\n",
              "    border: 2px solid var(--fill-color);\n",
              "    border-color: transparent;\n",
              "    border-bottom-color: var(--fill-color);\n",
              "    animation:\n",
              "      spin 1s steps(1) infinite;\n",
              "  }\n",
              "\n",
              "  @keyframes spin {\n",
              "    0% {\n",
              "      border-color: transparent;\n",
              "      border-bottom-color: var(--fill-color);\n",
              "      border-left-color: var(--fill-color);\n",
              "    }\n",
              "    20% {\n",
              "      border-color: transparent;\n",
              "      border-left-color: var(--fill-color);\n",
              "      border-top-color: var(--fill-color);\n",
              "    }\n",
              "    30% {\n",
              "      border-color: transparent;\n",
              "      border-left-color: var(--fill-color);\n",
              "      border-top-color: var(--fill-color);\n",
              "      border-right-color: var(--fill-color);\n",
              "    }\n",
              "    40% {\n",
              "      border-color: transparent;\n",
              "      border-right-color: var(--fill-color);\n",
              "      border-top-color: var(--fill-color);\n",
              "    }\n",
              "    60% {\n",
              "      border-color: transparent;\n",
              "      border-right-color: var(--fill-color);\n",
              "    }\n",
              "    80% {\n",
              "      border-color: transparent;\n",
              "      border-right-color: var(--fill-color);\n",
              "      border-bottom-color: var(--fill-color);\n",
              "    }\n",
              "    90% {\n",
              "      border-color: transparent;\n",
              "      border-bottom-color: var(--fill-color);\n",
              "    }\n",
              "  }\n",
              "</style>\n",
              "\n",
              "  <script>\n",
              "    async function quickchart(key) {\n",
              "      const quickchartButtonEl =\n",
              "        document.querySelector('#' + key + ' button');\n",
              "      quickchartButtonEl.disabled = true;  // To prevent multiple clicks.\n",
              "      quickchartButtonEl.classList.add('colab-df-spinner');\n",
              "      try {\n",
              "        const charts = await google.colab.kernel.invokeFunction(\n",
              "            'suggestCharts', [key], {});\n",
              "      } catch (error) {\n",
              "        console.error('Error during call to suggestCharts:', error);\n",
              "      }\n",
              "      quickchartButtonEl.classList.remove('colab-df-spinner');\n",
              "      quickchartButtonEl.classList.add('colab-df-quickchart-complete');\n",
              "    }\n",
              "    (() => {\n",
              "      let quickchartButtonEl =\n",
              "        document.querySelector('#df-f7d790dd-a484-47cc-8fb0-498369dfa358 button');\n",
              "      quickchartButtonEl.style.display =\n",
              "        google.colab.kernel.accessAllowed ? 'block' : 'none';\n",
              "    })();\n",
              "  </script>\n",
              "</div>\n",
              "    </div>\n",
              "  </div>\n"
            ]
          },
          "metadata": {},
          "execution_count": 10
        }
      ]
    },
    {
      "cell_type": "code",
      "source": [
        "df[\"Element\"].unique()"
      ],
      "metadata": {
        "colab": {
          "base_uri": "https://localhost:8080/"
        },
        "id": "LlSZRC0vifH6",
        "outputId": "29b887a3-80cf-4188-9060-d202bfac6ac2"
      },
      "execution_count": 11,
      "outputs": [
        {
          "output_type": "execute_result",
          "data": {
            "text/plain": [
              "array(['Total Population - Both sexes', 'Domestic supply quantity',\n",
              "       'Food supply (kcal/capita/day)',\n",
              "       'Protein supply quantity (g/capita/day)',\n",
              "       'Fat supply quantity (g/capita/day)', 'Production',\n",
              "       'Import Quantity', 'Stock Variation', 'Export Quantity', 'Feed',\n",
              "       'Seed', 'Losses', 'Processing', 'Other uses (non-food)',\n",
              "       'Residuals', 'Food', 'Food supply quantity (kg/capita/yr)',\n",
              "       'Tourist consumption'], dtype=object)"
            ]
          },
          "metadata": {},
          "execution_count": 11
        }
      ]
    },
    {
      "cell_type": "markdown",
      "source": [
        "# Q2. Select columns ‘Y2017’ and ‘Area’, Perform a groupby operation on ‘Area’.  Which of these Areas had the 7th lowest sum in 2017?"
      ],
      "metadata": {
        "id": "Rkp94eWNr7FK"
      }
    },
    {
      "cell_type": "code",
      "source": [
        "# Group by 'Area' and calculate the sum of 'Y2017'\n",
        "grouped = df.groupby('Area')['Y2017'].sum().reset_index()\n",
        "\n",
        "# Sort the DataFrame in ascending order based on the sum of 'Y2017'\n",
        "sorted_df = grouped.sort_values(by='Y2017', ascending=True)\n",
        "\n",
        "# Retrieve the 7th row from the sorted DataFrame\n",
        "seventh_lowest_area = sorted_df.iloc[6]\n",
        "\n",
        "print(\"Area with the 7th lowest sum in 2017:\", seventh_lowest_area['Area'])\n"
      ],
      "metadata": {
        "colab": {
          "base_uri": "https://localhost:8080/"
        },
        "id": "o7g2m49pgjCL",
        "outputId": "a9c296d5-22a7-49a1-89af-b4566591f23f"
      },
      "execution_count": 5,
      "outputs": [
        {
          "output_type": "stream",
          "name": "stdout",
          "text": [
            "Area with the 7th lowest sum in 2017: Guinea-Bissau\n"
          ]
        }
      ]
    },
    {
      "cell_type": "markdown",
      "source": [
        "# Q3. What is the total Protein supply quantity in Madagascar in 2015?"
      ],
      "metadata": {
        "id": "LVwWxSQEsbpg"
      }
    },
    {
      "cell_type": "code",
      "source": [
        "# Filter the dataset for Madagascar and  the 'Protein supply quantity (g/capita/day)'\n",
        "madagascar_protein_suply_2015 = df[(df['Area'] == 'Madagascar') & (df['Element'] == 'Protein supply quantity (g/capita/day)')]\n",
        "\n",
        "# Sum the 'Y2015' column to get the total protein supply quantity in Madagascar in 2015\n",
        "total_protein_supply_2015 = madagascar_protein_suply_2015[\"Y2015\"].sum()\n",
        "\n",
        "print(\"Total Protein Supply Quantity in Madagascar in 2015:\", total_protein_supply_2015)\n"
      ],
      "metadata": {
        "colab": {
          "base_uri": "https://localhost:8080/"
        },
        "id": "iitDKxz-hh94",
        "outputId": "6b9704e2-81fa-4d18-ff1f-d06f370be88d"
      },
      "execution_count": 15,
      "outputs": [
        {
          "output_type": "stream",
          "name": "stdout",
          "text": [
            "Total Protein Supply Quantity in Madagascar in 2015: 173.04999999999998\n"
          ]
        }
      ]
    },
    {
      "cell_type": "code",
      "source": [],
      "metadata": {
        "id": "SagU3Or3spoH"
      },
      "execution_count": null,
      "outputs": []
    },
    {
      "cell_type": "markdown",
      "source": [
        "# What is the mean and standard deviation across the whole dataset for the year 2017 to 2 decimal places?"
      ],
      "metadata": {
        "id": "NdDysTZPs3Ox"
      }
    },
    {
      "cell_type": "code",
      "source": [
        "# Select only the columns for the year 2017\n",
        "year_2017_data = df['Y2017']\n",
        "\n",
        "# Calculate the mean and standard deviation for the year 2017\n",
        "mean_2017 = year_2017_data.mean()\n",
        "std_deviation_2017 = year_2017_data.std()\n",
        "\n",
        "# Round the results to two decimal places\n",
        "mean_2017_rounded = round(mean_2017, 2)\n",
        "std_deviation_2017_rounded = round(std_deviation_2017, 2)\n",
        "\n",
        "print(\"Mean for the year 2017:\", mean_2017_rounded)\n",
        "print(\"Standard Deviation for the year 2017:\", std_deviation_2017_rounded)\n"
      ],
      "metadata": {
        "colab": {
          "base_uri": "https://localhost:8080/"
        },
        "id": "_vSsqoArjYkb",
        "outputId": "63853a14-f8c8-464c-c298-3ba57ffb6784"
      },
      "execution_count": 16,
      "outputs": [
        {
          "output_type": "stream",
          "name": "stdout",
          "text": [
            "Mean for the year 2017: 140.92\n",
            "Standard Deviation for the year 2017: 1671.86\n"
          ]
        }
      ]
    },
    {
      "cell_type": "markdown",
      "source": [
        "# Select columns ‘Y2017’ and ‘Area’, Perform a groupby operation on ‘Area’.  Which of these Areas had the highest sum in 2017?"
      ],
      "metadata": {
        "id": "OtJGPZZSs5v3"
      }
    },
    {
      "cell_type": "code",
      "source": [
        "# Group by 'Area' and calculate the sum of 'Y2017'\n",
        "grouped = df.groupby('Area')['Y2017'].sum().reset_index()\n",
        "\n",
        "# Find the area with the highest sum in 2017\n",
        "area_with_highest_sum_2017 = grouped[grouped['Y2017'] == grouped['Y2017'].max()]\n",
        "\n",
        "print(\"Area with the highest sum in 2017:\", area_with_highest_sum_2017['Area'].values[0])\n"
      ],
      "metadata": {
        "colab": {
          "base_uri": "https://localhost:8080/"
        },
        "id": "oUKTz5zTj5yR",
        "outputId": "9cbc2f44-4d9f-421d-bc1c-cb2ee3c73e82"
      },
      "execution_count": 17,
      "outputs": [
        {
          "output_type": "stream",
          "name": "stdout",
          "text": [
            "Area with the highest sum in 2017: Nigeria\n"
          ]
        }
      ]
    },
    {
      "cell_type": "markdown",
      "source": [
        "# What is the total sum of Wine produced in 2015 and 2018 respectively?\n",
        "\n",
        "Hint:\n",
        "\n",
        "Perform a groupby sum aggregation on ‘Item’"
      ],
      "metadata": {
        "id": "fO3S7cjCtYCz"
      }
    },
    {
      "cell_type": "code",
      "source": [
        "# Filter the dataset for 'Item' equal to 'Wine'\n",
        "wine_data = df[df['Item'] == 'Wine']\n",
        "\n",
        "# Select the 'Y2015' and 'Y2018' columns\n",
        "wine_2015_2018 = wine_data[['Y2015', 'Y2018']]\n",
        "\n",
        "# Sum the values for 2015 and 2018\n",
        "total_wine_produced_2015 = wine_2015_2018['Y2015'].sum()\n",
        "total_wine_produced_2018 = wine_2015_2018['Y2018'].sum()\n",
        "\n",
        "print(\"Total Wine Produced in 2015:\", total_wine_produced_2015)\n",
        "print(\"Total Wine Produced in 2018:\", total_wine_produced_2018)\n"
      ],
      "metadata": {
        "colab": {
          "base_uri": "https://localhost:8080/"
        },
        "id": "ZHs-9iyVmkAD",
        "outputId": "5aa2a8b4-3530-47c2-8d37-1774dc1f7cfc"
      },
      "execution_count": 19,
      "outputs": [
        {
          "output_type": "stream",
          "name": "stdout",
          "text": [
            "Total Wine Produced in 2015: 4251.8099999999995\n",
            "Total Wine Produced in 2018: 4039.3199999999997\n"
          ]
        }
      ]
    },
    {
      "cell_type": "markdown",
      "source": [
        "# What is the total number of unique countries in the dataset?"
      ],
      "metadata": {
        "id": "gQTi3s2mtUXl"
      }
    },
    {
      "cell_type": "code",
      "source": [
        "df[\"Area\"].nunique()"
      ],
      "metadata": {
        "colab": {
          "base_uri": "https://localhost:8080/"
        },
        "id": "w8AumhCfmesc",
        "outputId": "f754b25a-68b5-4d8d-be93-d56bdbbbc2f1"
      },
      "execution_count": 18,
      "outputs": [
        {
          "output_type": "execute_result",
          "data": {
            "text/plain": [
              "49"
            ]
          },
          "metadata": {},
          "execution_count": 18
        }
      ]
    },
    {
      "cell_type": "markdown",
      "source": [
        "# Perform a groupby operation on ‘Element’.  What is the total number of the sum of Processing in 2017?"
      ],
      "metadata": {
        "id": "NPWC8t6vtjEg"
      }
    },
    {
      "cell_type": "code",
      "source": [
        "# Filter the dataset for 'Element' equal to 'Processing'\n",
        "processing_data = df[df['Element'] == 'Processing']\n",
        "\n",
        "# Sum the values for 2017 in the 'Y2017' column\n",
        "total_processing_2017 = processing_data['Y2017'].sum()\n",
        "\n",
        "print(\"Total Processing in 2017:\", total_processing_2017)\n"
      ],
      "metadata": {
        "colab": {
          "base_uri": "https://localhost:8080/"
        },
        "id": "gYi-tTOGm3fn",
        "outputId": "acaf4cc8-ae92-440f-d6e1-0919e46511fe"
      },
      "execution_count": 20,
      "outputs": [
        {
          "output_type": "stream",
          "name": "stdout",
          "text": [
            "Total Processing in 2017: 292836.0\n"
          ]
        }
      ]
    },
    {
      "cell_type": "markdown",
      "source": [
        "# Perform a groupby operation on ‘Element’.  What year has the highest sum of Stock Variation?"
      ],
      "metadata": {
        "id": "7ATEFe5XtrlY"
      }
    },
    {
      "cell_type": "code",
      "source": [
        "# Filter the dataset for 'Element' equal to 'Stock Variation'\n",
        "stock_variation_data = df[df['Element'] == 'Stock Variation']\n",
        "\n",
        "# Group by year columns (Y2014 to Y2018) and calculate the sum for each year\n",
        "yearly_sum = stock_variation_data[['Y2014', 'Y2015', 'Y2016', 'Y2017', 'Y2018']].sum()\n",
        "\n",
        "# Find the year with the highest sum\n",
        "year_with_highest_stock_variation = yearly_sum.idxmax()\n",
        "\n",
        "print(\"Year with the highest sum of Stock Variation:\", year_with_highest_stock_variation)\n"
      ],
      "metadata": {
        "colab": {
          "base_uri": "https://localhost:8080/"
        },
        "id": "lLfVC0_HnEXX",
        "outputId": "9ce7017d-7ae7-48e9-ea56-6eccc48a5b2f"
      },
      "execution_count": 21,
      "outputs": [
        {
          "output_type": "stream",
          "name": "stdout",
          "text": [
            "Year with the highest sum of Stock Variation: Y2014\n"
          ]
        }
      ]
    },
    {
      "cell_type": "markdown",
      "source": [
        "# What is the total number and percentage of missing data in 2014 to 3 decimal places?"
      ],
      "metadata": {
        "id": "liMvdjl2tzbr"
      }
    },
    {
      "cell_type": "code",
      "source": [
        "# Select only the columns for the year 2014\n",
        "year_2014_data = df['Y2014']\n",
        "\n",
        "# Count the number of missing values in the 'Y2014' column\n",
        "missing_data_count = year_2014_data.isnull().sum()\n",
        "\n",
        "# Calculate the total number of data points in the 'Y2014' column\n",
        "total_data_points = len(year_2014_data)\n",
        "\n",
        "# Calculate the percentage of missing data\n",
        "percentage_missing_data = (missing_data_count / total_data_points) * 100\n",
        "\n",
        "# Round the results to three decimal places\n",
        "percentage_missing_data = round(percentage_missing_data, 3)\n",
        "\n",
        "print(\"Total Number of Missing Data in 2014:\", missing_data_count)\n",
        "print(\"Percentage of Missing Data in 2014:\", percentage_missing_data, \"%\")\n"
      ],
      "metadata": {
        "colab": {
          "base_uri": "https://localhost:8080/"
        },
        "id": "dAg1eXFVnG-L",
        "outputId": "a69e87c1-89d2-4a88-ee67-d594d3545eaf"
      },
      "execution_count": 22,
      "outputs": [
        {
          "output_type": "stream",
          "name": "stdout",
          "text": [
            "Total Number of Missing Data in 2014: 1589\n",
            "Percentage of Missing Data in 2014: 2.607 %\n"
          ]
        }
      ]
    },
    {
      "cell_type": "code",
      "source": [
        "#What would be the output for?\n",
        "\n",
        "S = [['him', 'sell'], [90, 28, 43]]\n",
        "\n",
        "S[0][1][1]"
      ],
      "metadata": {
        "colab": {
          "base_uri": "https://localhost:8080/",
          "height": 36
        },
        "id": "drnk70OtuJGz",
        "outputId": "e1b9c692-6363-41e1-d88b-b7d8409583d2"
      },
      "execution_count": 29,
      "outputs": [
        {
          "output_type": "execute_result",
          "data": {
            "text/plain": [
              "'e'"
            ],
            "application/vnd.google.colaboratory.intrinsic+json": {
              "type": "string"
            }
          },
          "metadata": {},
          "execution_count": 29
        }
      ]
    },
    {
      "cell_type": "markdown",
      "source": [
        "# Which year had the least correlation with ‘Element Code’?"
      ],
      "metadata": {
        "id": "vriExwEluSa4"
      }
    },
    {
      "cell_type": "code",
      "source": [
        "# Select the columns 'Element Code' and the year columns (Y2014 to Y2018)\n",
        "selected_columns = ['Element Code', 'Y2014', 'Y2015', 'Y2016', 'Y2017', 'Y2018']\n",
        "data = df[selected_columns]\n",
        "\n",
        "# Calculate the correlation between 'Element Code' and each year\n",
        "correlations = data.corr()\n",
        "\n",
        "#find the year with the least correlation with Element Code\n",
        "min_correlation_year = correlations['Element Code'].idxmin()\n",
        "\n",
        "print(\"Year with the least correlation with 'Element Code':\", min_correlation_year)\n"
      ],
      "metadata": {
        "colab": {
          "base_uri": "https://localhost:8080/"
        },
        "id": "Bp4cHen7nxDJ",
        "outputId": "789ad0c9-dacb-4907-8649-630a0e32fdda"
      },
      "execution_count": 28,
      "outputs": [
        {
          "output_type": "stream",
          "name": "stdout",
          "text": [
            "Year with the least correlation with 'Element Code': Y2016\n"
          ]
        }
      ]
    },
    {
      "cell_type": "markdown",
      "source": [
        "# Given the following python code, what would the output of the code give?"
      ],
      "metadata": {
        "id": "JmzA5-mwudKf"
      }
    },
    {
      "cell_type": "code",
      "source": [
        "my_tuppy = (1,2,5,8)\n",
        "\n",
        "my_tuppy[2] = 6"
      ],
      "metadata": {
        "colab": {
          "base_uri": "https://localhost:8080/",
          "height": 219
        },
        "id": "KKEeanxSothQ",
        "outputId": "06aa1ffb-9c5a-455d-ea0b-8a540e572050"
      },
      "execution_count": 30,
      "outputs": [
        {
          "output_type": "error",
          "ename": "TypeError",
          "evalue": "ignored",
          "traceback": [
            "\u001b[0;31m---------------------------------------------------------------------------\u001b[0m",
            "\u001b[0;31mTypeError\u001b[0m                                 Traceback (most recent call last)",
            "\u001b[0;32m<ipython-input-30-ce1543b3be47>\u001b[0m in \u001b[0;36m<cell line: 3>\u001b[0;34m()\u001b[0m\n\u001b[1;32m      1\u001b[0m \u001b[0mmy_tuppy\u001b[0m \u001b[0;34m=\u001b[0m \u001b[0;34m(\u001b[0m\u001b[0;36m1\u001b[0m\u001b[0;34m,\u001b[0m\u001b[0;36m2\u001b[0m\u001b[0;34m,\u001b[0m\u001b[0;36m5\u001b[0m\u001b[0;34m,\u001b[0m\u001b[0;36m8\u001b[0m\u001b[0;34m)\u001b[0m\u001b[0;34m\u001b[0m\u001b[0;34m\u001b[0m\u001b[0m\n\u001b[1;32m      2\u001b[0m \u001b[0;34m\u001b[0m\u001b[0m\n\u001b[0;32m----> 3\u001b[0;31m \u001b[0mmy_tuppy\u001b[0m\u001b[0;34m[\u001b[0m\u001b[0;36m2\u001b[0m\u001b[0;34m]\u001b[0m \u001b[0;34m=\u001b[0m \u001b[0;36m6\u001b[0m\u001b[0;34m\u001b[0m\u001b[0;34m\u001b[0m\u001b[0m\n\u001b[0m",
            "\u001b[0;31mTypeError\u001b[0m: 'tuple' object does not support item assignment"
          ]
        }
      ]
    },
    {
      "cell_type": "code",
      "source": [],
      "metadata": {
        "id": "eVZPB1cfueh6"
      },
      "execution_count": null,
      "outputs": []
    }
  ]
}